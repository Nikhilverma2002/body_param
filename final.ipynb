{
 "cells": [
  {
   "cell_type": "code",
   "execution_count": 4,
   "metadata": {},
   "outputs": [
    {
     "name": "stdout",
     "output_type": "stream",
     "text": [
      " * Serving Flask app '__main__'\n",
      " * Debug mode: on\n"
     ]
    },
    {
     "name": "stderr",
     "output_type": "stream",
     "text": [
      "WARNING: This is a development server. Do not use it in a production deployment. Use a production WSGI server instead.\n",
      " * Running on http://127.0.0.1:5000\n",
      "Press CTRL+C to quit\n",
      "127.0.0.1 - - [13/Apr/2024 03:22:41] \"GET / HTTP/1.1\" 404 -\n",
      "127.0.0.1 - - [13/Apr/2024 03:22:55] \"GET / HTTP/1.1\" 404 -\n",
      "127.0.0.1 - - [13/Apr/2024 03:23:08] \"POST / HTTP/1.1\" 404 -\n",
      "127.0.0.1 - - [13/Apr/2024 03:23:40] \"GET /predict?Weight=70&Height=170&Age=30 HTTP/1.1\" 200 -\n",
      "127.0.0.1 - - [13/Apr/2024 03:24:11] \"GET /predict?Weight=70&Height=170&Age=30 HTTP/1.1\" 200 -\n"
     ]
    }
   ],
   "source": [
    "from flask import Flask, request, jsonify\n",
    "import numpy as np\n",
    "import pandas as pd\n",
    "from sklearn.ensemble import RandomForestRegressor\n",
    "\n",
    "app = Flask(__name__)\n",
    "\n",
    "# Load and preprocess data\n",
    "np.random.seed(42)  # For reproducibility\n",
    "N = 1000  # Number of samples\n",
    "weights = np.random.uniform(50, 120, N)  # Weight in kg\n",
    "heights = np.random.uniform(150, 200, N)  # Height in cm\n",
    "ages = np.random.uniform(18, 65, N)  # Age in years\n",
    "\n",
    "arm_lengths = 0.5 * heights + 0.2 * weights - 0.1 * ages + np.random.normal(0, 5, N)\n",
    "waist_sizes = 0.3 * heights + 0.5 * weights + np.random.normal(0, 5, N)\n",
    "chest_sizes = 0.35 * heights + 0.45 * weights + np.random.normal(0, 5, N)\n",
    "leg_lengths = 0.45 * heights + 0.25 * weights - 0.05 * ages + np.random.normal(0, 5, N)\n",
    "\n",
    "df = pd.DataFrame({\n",
    "    'Weight': weights,\n",
    "    'Height': heights,\n",
    "    'Age': ages,\n",
    "    'Arm_Length': arm_lengths,\n",
    "    'Waist_Size': waist_sizes,\n",
    "    'Chest_Size': chest_sizes,\n",
    "    'Leg_Lengths': leg_lengths\n",
    "})\n",
    "\n",
    "# Train the model\n",
    "X = df[['Weight', 'Height', 'Age']]\n",
    "y = df[['Arm_Length', 'Waist_Size', 'Chest_Size', 'Leg_Lengths']]\n",
    "model_rf = RandomForestRegressor(n_estimators=100, random_state=42)\n",
    "model_rf.fit(X, y)\n",
    "\n",
    "# Endpoint for making predictions\n",
    "@app.route(\"/predict\", methods=[\"GET\"])\n",
    "def predict():\n",
    "    weight = float(request.args.get('Weight'))\n",
    "    height = float(request.args.get('Height'))\n",
    "    age = float(request.args.get('Age'))\n",
    "\n",
    "    new_data = pd.DataFrame({\n",
    "        'Weight': [weight],\n",
    "        'Height': [height],\n",
    "        'Age': [age]\n",
    "    })\n",
    "\n",
    "    predictions = model_rf.predict(new_data)\n",
    "    return jsonify({\n",
    "        \"Arm_Length\": predictions[0][0],\n",
    "        \"Waist_Size\": predictions[0][1],\n",
    "        \"Chest_Size\": predictions[0][2],\n",
    "        \"Leg_Lengths\": predictions[0][3]\n",
    "    })\n",
    "\n",
    "if __name__ == \"__main__\":\n",
    "    app.run(debug=True, use_reloader=False)\n"
   ]
  },
  {
   "cell_type": "code",
   "execution_count": 5,
   "metadata": {},
   "outputs": [
    {
     "name": "stdout",
     "output_type": "stream",
     "text": [
      "Collecting flask-cors\n",
      "  Downloading Flask_Cors-4.0.0-py2.py3-none-any.whl.metadata (5.4 kB)\n",
      "Requirement already satisfied: Flask>=0.9 in c:\\users\\nikhi\\appdata\\local\\programs\\python\\python310\\lib\\site-packages (from flask-cors) (3.0.2)\n",
      "Requirement already satisfied: Werkzeug>=3.0.0 in c:\\users\\nikhi\\appdata\\local\\programs\\python\\python310\\lib\\site-packages (from Flask>=0.9->flask-cors) (3.0.1)\n",
      "Requirement already satisfied: Jinja2>=3.1.2 in c:\\users\\nikhi\\appdata\\local\\programs\\python\\python310\\lib\\site-packages (from Flask>=0.9->flask-cors) (3.1.2)\n",
      "Requirement already satisfied: itsdangerous>=2.1.2 in c:\\users\\nikhi\\appdata\\local\\programs\\python\\python310\\lib\\site-packages (from Flask>=0.9->flask-cors) (2.1.2)\n",
      "Requirement already satisfied: click>=8.1.3 in c:\\users\\nikhi\\appdata\\local\\programs\\python\\python310\\lib\\site-packages (from Flask>=0.9->flask-cors) (8.1.3)\n",
      "Requirement already satisfied: blinker>=1.6.2 in c:\\users\\nikhi\\appdata\\local\\programs\\python\\python310\\lib\\site-packages (from Flask>=0.9->flask-cors) (1.7.0)\n",
      "Requirement already satisfied: colorama in c:\\users\\nikhi\\appdata\\local\\programs\\python\\python310\\lib\\site-packages (from click>=8.1.3->Flask>=0.9->flask-cors) (0.4.5)\n",
      "Requirement already satisfied: MarkupSafe>=2.0 in c:\\users\\nikhi\\appdata\\local\\programs\\python\\python310\\lib\\site-packages (from Jinja2>=3.1.2->Flask>=0.9->flask-cors) (2.1.1)\n",
      "Downloading Flask_Cors-4.0.0-py2.py3-none-any.whl (14 kB)\n",
      "Installing collected packages: flask-cors\n",
      "Successfully installed flask-cors-4.0.0\n",
      "Note: you may need to restart the kernel to use updated packages.\n"
     ]
    }
   ],
   "source": [
    "pip install flask-cors\n"
   ]
  },
  {
   "cell_type": "code",
   "execution_count": 1,
   "metadata": {},
   "outputs": [
    {
     "name": "stdout",
     "output_type": "stream",
     "text": [
      " * Serving Flask app '__main__'\n",
      " * Debug mode: on\n"
     ]
    },
    {
     "name": "stderr",
     "output_type": "stream",
     "text": [
      "WARNING: This is a development server. Do not use it in a production deployment. Use a production WSGI server instead.\n",
      " * Running on http://127.0.0.1:5000\n",
      "Press CTRL+C to quit\n"
     ]
    }
   ],
   "source": [
    "from flask import Flask, request, jsonify\n",
    "import numpy as np\n",
    "from flask_cors import CORS\n",
    "\n",
    "import pandas as pd\n",
    "from sklearn.ensemble import RandomForestRegressor\n",
    "\n",
    "app = Flask(__name__)\n",
    "CORS(app)\n",
    "\n",
    "# Load and preprocess data\n",
    "np.random.seed(42)  # For reproducibility\n",
    "N = 1000  # Number of samples\n",
    "weights = np.random.uniform(50, 120, N)  # Weight in kg\n",
    "heights = np.random.uniform(150, 200, N)  # Height in cm\n",
    "ages = np.random.uniform(18, 65, N)  # Age in years\n",
    "\n",
    "arm_lengths = 0.5 * heights + 0.2 * weights - 0.1 * ages + np.random.normal(0, 5, N)\n",
    "waist_sizes = 0.3 * heights + 0.5 * weights + np.random.normal(0, 5, N)\n",
    "chest_sizes = 0.35 * heights + 0.45 * weights + np.random.normal(0, 5, N)\n",
    "leg_lengths = 0.45 * heights + 0.25 * weights - 0.05 * ages + np.random.normal(0, 5, N)\n",
    "\n",
    "df = pd.DataFrame({\n",
    "    'Weight': weights,\n",
    "    'Height': heights,\n",
    "    'Age': ages,\n",
    "    'Arm_Length': arm_lengths,\n",
    "    'Waist_Size': waist_sizes,\n",
    "    'Chest_Size': chest_sizes,\n",
    "    'Leg_Lengths': leg_lengths\n",
    "})\n",
    "\n",
    "# Train the model\n",
    "X = df[['Weight', 'Height', 'Age']]\n",
    "y = df[['Arm_Length', 'Waist_Size', 'Chest_Size', 'Leg_Lengths']]\n",
    "model_rf = RandomForestRegressor(n_estimators=100, random_state=42)\n",
    "model_rf.fit(X, y)\n",
    "\n",
    "# Endpoint for making predictions\n",
    "@app.route(\"/predict\", methods=[\"GET\"])\n",
    "def predict():\n",
    "    weight = float(request.args.get('Weight'))\n",
    "    height = float(request.args.get('Height'))\n",
    "    age = float(request.args.get('Age'))\n",
    "\n",
    "    new_data = pd.DataFrame({\n",
    "        'Weight': [weight],\n",
    "        'Height': [height],\n",
    "        'Age': [age]\n",
    "    })\n",
    "\n",
    "    predictions = model_rf.predict(new_data)\n",
    "    return jsonify({\n",
    "        \"Arm_Length\": predictions[0][0],\n",
    "        \"Waist_Size\": predictions[0][1],\n",
    "        \"Chest_Size\": predictions[0][2],\n",
    "        \"Leg_Lengths\": predictions[0][3]\n",
    "    })\n",
    "\n",
    "if __name__ == \"__main__\":\n",
    "    app.run(debug=True, use_reloader=False)\n"
   ]
  }
 ],
 "metadata": {
  "kernelspec": {
   "display_name": "Python 3",
   "language": "python",
   "name": "python3"
  },
  "language_info": {
   "codemirror_mode": {
    "name": "ipython",
    "version": 3
   },
   "file_extension": ".py",
   "mimetype": "text/x-python",
   "name": "python",
   "nbconvert_exporter": "python",
   "pygments_lexer": "ipython3",
   "version": "3.10.5"
  }
 },
 "nbformat": 4,
 "nbformat_minor": 2
}
